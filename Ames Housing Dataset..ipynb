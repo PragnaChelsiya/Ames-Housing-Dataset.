{
 "cells": [
  {
   "cell_type": "code",
   "execution_count": null,
   "id": "7fb27e9f-220a-48e2-8161-3e832e18fa3f",
   "metadata": {},
   "outputs": [],
   "source": [
    "import pandas as pd\n",
    "import numpy as np"
   ]
  },
  {
   "cell_type": "code",
   "execution_count": null,
   "id": "af254264-0e91-4073-bd91-34b0da5dee9d",
   "metadata": {},
   "outputs": [],
   "source": [
    "data = pd.read_csv(r\"C:\\Users\\user\\Downloads\\AmesHousing.csv\")"
   ]
  },
  {
   "cell_type": "code",
   "execution_count": null,
   "id": "5846a359-2052-463f-9948-a79ec1afad3e",
   "metadata": {},
   "outputs": [],
   "source": [
    "data"
   ]
  },
  {
   "cell_type": "code",
   "execution_count": null,
   "id": "2a8bd804-ab90-4c27-8eb3-38498c9f0adf",
   "metadata": {},
   "outputs": [],
   "source": [
    "data.info()"
   ]
  },
  {
   "cell_type": "code",
   "execution_count": null,
   "id": "5b968cd8-f327-4a39-b93e-be563fb90e3f",
   "metadata": {},
   "outputs": [],
   "source": [
    "data.describe()"
   ]
  },
  {
   "cell_type": "code",
   "execution_count": null,
   "id": "e25c3611-4dff-4128-9cdf-ea9742b61838",
   "metadata": {},
   "outputs": [],
   "source": [
    "data.isnull().sum() #missing values"
   ]
  },
  {
   "cell_type": "code",
   "execution_count": null,
   "id": "eb3f64ff-93f1-4401-b800-f13da7dd8729",
   "metadata": {},
   "outputs": [],
   "source": [
    "from sklearn.preprocessing import LabelEncoder"
   ]
  },
  {
   "cell_type": "code",
   "execution_count": null,
   "id": "9b6c360c-4420-4490-875f-5b55121d700a",
   "metadata": {},
   "outputs": [],
   "source": [
    "# Identify ordinal columns (example set)\n",
    "ordinal_cols = ['Exter Qual', 'Exter Cond', 'Bsmt Qual', 'Bsmt Cond', \n",
    "                'Heating QC', 'Kitchen Qual', 'Fireplace Qu', 'Garage Qual', \n",
    "                'Garage Cond', 'Pool QC']\n",
    "\n",
    "le = LabelEncoder()\n",
    "for col in ordinal_cols:\n",
    "    if col in data.columns:\n",
    "        data[col] = le.fit_transform(data[col])"
   ]
  },
  {
   "cell_type": "code",
   "execution_count": null,
   "id": "116a0cd0-c7be-4dbf-ab4e-3023e218ebbf",
   "metadata": {},
   "outputs": [],
   "source": [
    "data= pd.get_dummies(data, drop_first=True) "
   ]
  },
  {
   "cell_type": "code",
   "execution_count": null,
   "id": "db75a623-1d76-493a-894e-81564dd6ba3f",
   "metadata": {},
   "outputs": [],
   "source": [
    "# Check shape and sample\n",
    "print(df.shape)\n",
    "print(df.head())"
   ]
  },
  {
   "cell_type": "code",
   "execution_count": null,
   "id": "cbd2adbf-7141-4d2c-ae7d-3e8be93894f1",
   "metadata": {},
   "outputs": [],
   "source": [
    "from sklearn.preprocessing import StandardScaler"
   ]
  },
  {
   "cell_type": "code",
   "execution_count": null,
   "id": "a18ce38b-0d99-40b2-a7a3-6a85b7377773",
   "metadata": {},
   "outputs": [],
   "source": [
    "# Drop target variable before scaling\n",
    "target = 'SalePrice'\n",
    "X = data.drop(target, axis=1)\n",
    "y = data[target]"
   ]
  },
  {
   "cell_type": "code",
   "execution_count": null,
   "id": "03bd6958-1a74-434b-99ca-20ba0284a494",
   "metadata": {},
   "outputs": [],
   "source": [
    "# Identify numerical columns only (after encoding)\n",
    "numeric_cols = X.select_dtypes(include=['int64', 'float64']).columns"
   ]
  },
  {
   "cell_type": "code",
   "execution_count": null,
   "id": "70e91ca6-38c4-430b-b62a-0e61b07edce7",
   "metadata": {},
   "outputs": [],
   "source": [
    "# Standardize\n",
    "scaler = StandardScaler()\n",
    "X[numeric_cols] = scaler.fit_transform(X[numeric_cols])"
   ]
  },
  {
   "cell_type": "code",
   "execution_count": null,
   "id": "b295c6a0-45b0-444f-8e2b-1f32cb83cf27",
   "metadata": {},
   "outputs": [],
   "source": [
    "# Combine scaled features and target\n",
    "data_scaled = pd.concat([X, y], axis=1)"
   ]
  },
  {
   "cell_type": "code",
   "execution_count": null,
   "id": "83548fd4-b528-423b-9392-9e0d27289803",
   "metadata": {},
   "outputs": [],
   "source": [
    "# Save or preview\n",
    "data_scaled.to_csv(\"final_cleaned_scaled_data.csv\", index=False)\n",
    "print(data_scaled.head())"
   ]
  },
  {
   "cell_type": "code",
   "execution_count": null,
   "id": "dea64201-6893-459e-9e38-d1b6849ce23c",
   "metadata": {},
   "outputs": [],
   "source": [
    "from sklearn.preprocessing import MinMaxScaler\n"
   ]
  },
  {
   "cell_type": "code",
   "execution_count": null,
   "id": "f2489a3c-f1bc-48ea-bd4e-05244b1ca8fc",
   "metadata": {},
   "outputs": [],
   "source": [
    "# Select only numerical columns for scaling\n",
    "num_cols = X.select_dtypes(include=['int64', 'float64']).columns\n",
    "\n",
    "# Apply Min-Max Scaling\n",
    "scaler = MinMaxScaler()\n",
    "X[num_cols] = scaler.fit_transform(X[num_cols])\n",
    "\n",
    "# Combine scaled features with target variable\n",
    "data_scaled = pd.concat([X, y], axis=1)\n",
    "\n",
    "# Preview the result\n",
    "print(data_scaled.head())\n",
    "\n",
    "# Optionally save it\n",
    "data_scaled.to_csv(\"final_scaled_data.csv\", index=False)"
   ]
  },
  {
   "cell_type": "code",
   "execution_count": null,
   "id": "de5492d7-73bf-4dd7-9d89-f5f5a9a9a584",
   "metadata": {},
   "outputs": [],
   "source": [
    "import matplotlib.pyplot as plt\n",
    "import seaborn as sns\n",
    "# Select numerical columns only\n",
    "num_cols = df.select_dtypes(include=['float64', 'int64']).columns"
   ]
  },
  {
   "cell_type": "code",
   "execution_count": null,
   "id": "b656e412-6bf6-431a-88cf-35ad6ce6ced9",
   "metadata": {},
   "outputs": [],
   "source": [
    "# Plot histograms\n",
    "data[num_cols].hist(bins=30, figsize=(40, 35), color='blue', edgecolor='black')\n",
    "plt.suptitle(\"Histograms of Numerical Features\", fontsize=40)\n",
    "plt.tight_layout()\n",
    "plt.show()"
   ]
  },
  {
   "cell_type": "code",
   "execution_count": null,
   "id": "a963439d-c567-4935-a167-b645733581aa",
   "metadata": {},
   "outputs": [],
   "source": [
    "# Plot box plots\n",
    "plt.figure(figsize=(20, 15))\n",
    "for i, col in enumerate(num_cols[:12], 1):  # Limiting to 12 for clarity, you can increase it\n",
    "    plt.subplot(4, 3, i)\n",
    "    sns.boxplot(x=df[col], color='lightgreen')\n",
    "    plt.title(col)\n",
    "plt.tight_layout()\n",
    "plt.suptitle(\"Box Plots of Selected Features\", y=1.02, fontsize=20)\n",
    "plt.show()"
   ]
  },
  {
   "cell_type": "code",
   "execution_count": null,
   "id": "93f22a63-d72a-4b38-abf6-fb1160b227d1",
   "metadata": {},
   "outputs": [],
   "source": [
    "# Features to plot against SalePrice\n",
    "features = ['MS SubClass', 'Lot Frontage']\n",
    "\n",
    "# Create scatter plots\n",
    "plt.figure(figsize=(20, 15))\n",
    "for i, feature in enumerate(features, 1):\n",
    "    plt.subplot(3, 2, i)\n",
    "    sns.scatterplot(data=df, x=feature, y='SalePrice', color='teal', alpha=0.6)\n",
    "    plt.title(f'SalePrice vs {feature}', fontsize=14)\n",
    "    plt.xlabel(feature)\n",
    "    plt.ylabel('SalePrice')\n",
    "\n",
    "plt.tight_layout()\n",
    "plt.suptitle(\"Scatter Plots: SalePrice vs Key Features\", fontsize=18, y=1.02)\n",
    "plt.show()"
   ]
  },
  {
   "cell_type": "code",
   "execution_count": null,
   "id": "a0bab38f-7732-4de4-8954-3c35604b562e",
   "metadata": {},
   "outputs": [],
   "source": [
    "import matplotlib.pyplot as plt\n",
    "from sklearn.model_selection import train_test_split\n",
    "from sklearn.linear_model import LinearRegression\n",
    "from sklearn.metrics import r2_score, mean_absolute_error, mean_squared_error"
   ]
  },
  {
   "cell_type": "code",
   "execution_count": null,
   "id": "fc5e1025-dd49-4765-a6e5-65d5718e50ef",
   "metadata": {},
   "outputs": [],
   "source": [
    "# Compute correlation matrix\n",
    "corr_matrix = data.corr()\n",
    "\n",
    "# Set figure size\n",
    "plt.figure(figsize=(16, 12))\n",
    "\n",
    "# Draw the heatmap\n",
    "sns.heatmap(corr_matrix, annot=True, fmt=\".2f\", cmap='coolwarm', square=True, linewidths=.5, cbar_kws={\"shrink\": .5})\n",
    "\n",
    "# Title\n",
    "plt.title(\"Correlation Heatmap of Features\", fontsize=18)\n",
    "plt.show()"
   ]
  },
  {
   "cell_type": "code",
   "execution_count": 146,
   "id": "b876a379-97ea-40ba-b6cd-154ee50d11e9",
   "metadata": {},
   "outputs": [
    {
     "name": "stderr",
     "output_type": "stream",
     "text": [
      "C:\\Users\\user\\AppData\\Local\\Temp\\ipykernel_7480\\4129535569.py:6: FutureWarning: \n",
      "\n",
      "Passing `palette` without assigning `hue` is deprecated and will be removed in v0.14.0. Assign the `y` variable to `hue` and set `legend=False` for the same effect.\n",
      "\n",
      "  sns.barplot(x=top_corr.values, y=top_corr.index, palette=\"viridis\")\n"
     ]
    },
    {
     "data": {
      "image/png": "[encoded data removed]",
      "text/plain": [
       "<Figure size 1000x600 with 1 Axes>"
      ]
     },
     "metadata": {},
     "output_type": "display_data"
    }
   ],
   "source": [
    "# Top correlations with SalePrice\n",
    "top_corr = corr_matrix['SalePrice'].abs().sort_values(ascending=False).head(10)\n",
    "\n",
    "# Display as bar plot\n",
    "plt.figure(figsize=(10, 6))\n",
    "sns.barplot(x=top_corr.values, y=top_corr.index, palette=\"viridis\")\n",
    "plt.title(\"Top 10 Features Correlated with SalePrice\", fontsize=16)\n",
    "plt.xlabel(\"Correlation Coefficient\")\n",
    "plt.ylabel(\"Feature\")\n",
    "plt.show()\n"
   ]
  },
  {
   "cell_type": "code",
   "execution_count": 149,
   "id": "723c0c68-eeeb-4da7-bf70-4b2b2e943542",
   "metadata": {},
   "outputs": [
    {
     "ename": "NameError",
     "evalue": "name 'train_test_split' is not defined",
     "output_type": "error",
     "traceback": [
      "\u001b[1;31m---------------------------------------------------------------------------\u001b[0m",
      "\u001b[1;31mNameError\u001b[0m                                 Traceback (most recent call last)",
      "Cell \u001b[1;32mIn[149], line 6\u001b[0m\n\u001b[0;32m      3\u001b[0m y \u001b[38;5;241m=\u001b[39m df[\u001b[38;5;124m'\u001b[39m\u001b[38;5;124mSalePrice\u001b[39m\u001b[38;5;124m'\u001b[39m]\n\u001b[0;32m      5\u001b[0m \u001b[38;5;66;03m# Split into 80% training and 20% testing sets\u001b[39;00m\n\u001b[1;32m----> 6\u001b[0m X_train, X_test, y_train, y_test \u001b[38;5;241m=\u001b[39m train_test_split(\n\u001b[0;32m      7\u001b[0m     X, y, test_size\u001b[38;5;241m=\u001b[39m\u001b[38;5;241m0.2\u001b[39m, random_state\u001b[38;5;241m=\u001b[39m\u001b[38;5;241m42\u001b[39m\n\u001b[0;32m      8\u001b[0m )\n\u001b[0;32m     10\u001b[0m \u001b[38;5;66;03m# Print the shape of the splits\u001b[39;00m\n\u001b[0;32m     11\u001b[0m \u001b[38;5;28mprint\u001b[39m(\u001b[38;5;124m\"\u001b[39m\u001b[38;5;124mX_train shape:\u001b[39m\u001b[38;5;124m\"\u001b[39m, X_train\u001b[38;5;241m.\u001b[39mshape)\n",
      "\u001b[1;31mNameError\u001b[0m: name 'train_test_split' is not defined"
     ]
    }
   ],
   "source": [
    "# Separate features (X) and target (y)\n",
    "X = df.drop('SalePrice', axis=1)\n",
    "y = df['SalePrice']\n",
    "\n",
    "# Split into 80% training and 20% testing sets\n",
    "X_train, X_test, y_train, y_test = train_test_split(\n",
    "    X, y, test_size=0.2, random_state=42\n",
    ")\n",
    "\n",
    "# Print the shape of the splits\n",
    "print(\"X_train shape:\", X_train.shape)\n",
    "print(\"X_test shape:\", X_test.shape)\n",
    "print(\"y_train shape:\", y_train.shape)\n",
    "print(\"y_test shape:\", y_test.shape)"
   ]
  },
  {
   "cell_type": "code",
   "execution_count": null,
   "id": "7c411882-5479-4542-95a1-941197602217",
   "metadata": {},
   "outputs": [],
   "source": [
    "# Initialize and train the Linear Regression model\n",
    "model = LinearRegression()\n",
    "model.fit(X_train, y_train)\n",
    "\n",
    "# Predict on the test set\n",
    "y_pred = model.predict(X_test)\n",
    "\n",
    "# Evaluation metrics\n",
    "mse = mean_squared_error(y_test, y_pred)\n",
    "r2 = r2_score(y_test, y_pred)\n",
    "\n",
    "# Print evaluation results\n",
    "print(\"Multiple Linear Regression Results:\")\n",
    "print(\"Mean Squared Error (MSE):\", mse)\n",
    "print(\"R² Score:\", r2)"
   ]
  },
  {
   "cell_type": "code",
   "execution_count": 152,
   "id": "b1a7cc25-2e70-498b-a1d6-797a50125716",
   "metadata": {},
   "outputs": [
    {
     "ename": "NameError",
     "evalue": "name 'train_test_split' is not defined",
     "output_type": "error",
     "traceback": [
      "\u001b[1;31m---------------------------------------------------------------------------\u001b[0m",
      "\u001b[1;31mNameError\u001b[0m                                 Traceback (most recent call last)",
      "Cell \u001b[1;32mIn[152], line 6\u001b[0m\n\u001b[0;32m      3\u001b[0m y \u001b[38;5;241m=\u001b[39m data[\u001b[38;5;124m'\u001b[39m\u001b[38;5;124mSalePrice\u001b[39m\u001b[38;5;124m'\u001b[39m]\n\u001b[0;32m      5\u001b[0m \u001b[38;5;66;03m# Train-test split\u001b[39;00m\n\u001b[1;32m----> 6\u001b[0m X_train, X_test, y_train, y_test \u001b[38;5;241m=\u001b[39m train_test_split(\n\u001b[0;32m      7\u001b[0m     X, y, test_size\u001b[38;5;241m=\u001b[39m\u001b[38;5;241m0.2\u001b[39m, random_state\u001b[38;5;241m=\u001b[39m\u001b[38;5;241m42\u001b[39m\n\u001b[0;32m      8\u001b[0m )\n\u001b[0;32m     10\u001b[0m \u001b[38;5;66;03m# Train the model\u001b[39;00m\n\u001b[0;32m     11\u001b[0m model \u001b[38;5;241m=\u001b[39m LinearRegression()\n",
      "\u001b[1;31mNameError\u001b[0m: name 'train_test_split' is not defined"
     ]
    }
   ],
   "source": [
    "# Separate features and target\n",
    "X = data.drop('SalePrice', axis=1)\n",
    "y = data['SalePrice']\n",
    "\n",
    "# Train-test split\n",
    "X_train, X_test, y_train, y_test = train_test_split(\n",
    "    X, y, test_size=0.2, random_state=42\n",
    ")\n",
    "\n",
    "# Train the model\n",
    "model = LinearRegression()\n",
    "model.fit(X_train, y_train)\n",
    "\n",
    "# Predict on test set\n",
    "y_pred = model.predict(X_test)\n",
    "\n",
    "# Plot actual vs predicted\n",
    "plt.figure(figsize=(10, 6))\n",
    "plt.scatter(y_test, y_pred, color='mediumseagreen', alpha=0.6)\n",
    "plt.plot([y_test.min(), y_test.max()], [y_test.min(), y_test.max()], 'r--', lw=2)\n",
    "plt.xlabel(\"Actual SalePrice\")\n",
    "plt.ylabel(\"Predicted SalePrice\")\n",
    "plt.title(\"Actual vs Predicted SalePrice\")\n",
    "plt.grid(True)\n",
    "plt.tight_layout()\n",
    "plt.show()"
   ]
  },
  {
   "cell_type": "code",
   "execution_count": null,
   "id": "35b7b21d-1803-405e-b763-72f56e8a546e",
   "metadata": {},
   "outputs": [],
   "source": []
  }
 ],
 "metadata": {
  "kernelspec": {
   "display_name": "Python 3 (ipykernel)",
   "language": "python",
   "name": "python3"
  },
  "language_info": {
   "codemirror_mode": {
    "name": "ipython",
    "version": 3
   },
   "file_extension": ".py",
   "mimetype": "text/x-python",
   "name": "python",
   "nbconvert_exporter": "python",
   "pygments_lexer": "ipython3",
   "version": "3.12.4"
  }
 },
 "nbformat": 4,
 "nbformat_minor": 5
}
